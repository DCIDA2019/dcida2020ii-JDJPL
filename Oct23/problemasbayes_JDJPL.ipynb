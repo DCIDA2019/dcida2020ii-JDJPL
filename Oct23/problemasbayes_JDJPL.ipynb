{
 "cells": [
  {
   "cell_type": "markdown",
   "metadata": {},
   "source": [
    "#### Problema de chabelo y demostración del teorema de Bayes."
   ]
  },
  {
   "cell_type": "markdown",
   "metadata": {},
   "source": [
    "#### 1. Hay 3 puertas. Detrás de una hay un premio. Supongamos que eliges la puerta 2. Chabelo abre la puerta 1 y allí no hay un premio. ¿Te quedas con tu elección original o cambias a la puerta 3?.\n",
    "##### Enunciando el teorema de Bayes:\n",
    "$P\\left(H\\left|E\\right.\\right)=\\frac{P\\left(E\\left|H\\right.\\right)}{P\\left(E\\right)}P\\left(H\\right)=\\frac{P\\left(H\\left|E\\right.\\right)P\\left(H\\right)}{P\\left(E\\left|H\\right.\\right)P\\left(H\\right)+P\\left(E\\ast\\left|H\\right.\\right)P\\left(\\ast H\\right)}$\n",
    "##### donde:\n",
    "$P\\left(H\\right)$ Es la probabilidad de que se abra la primer puerta y se encuentre el premio. $P\\left(H\\right)$ Es la probabilidad de que se abra la primer puerta y se encuentre el premio $=1/3$. $P\\left(\\ast H\\right)$ la probabilidad de que se abra la primer puerta sin el premio y esta es igual a $1-P\\left(H\\right)=2/3$. $P\\left(E\\left|H\\right.\\right)$ la probabilidad de que chabelo abra la puerta sin el premio (siempre lo hará), finalmente $P\\left(E\\left|\\ast H\\right.\\right)$ la probabilidad de que no abra la puerta con el premio, que evidentemente también es igual a 1.\n",
    "##### Realizando el cálculo:\n",
    "$P\\left(H\\left|E\\right.\\right)=\\frac{1\\times{\\displaystyle\\frac13}}{1\\times\\frac13+1\\times\\frac23}=\\frac13$\n",
    "##### Con lo que se determina que la probabilidad de que el premio esté detrás de la puerta 1 no cambia en absoluto por la evidencia. Sin embargo, dado que el premio solo puede estar detrás de la puerta 1 o detrás de la puerta que Chabelo no reveló, la probabilidad de que esté detrás de la puerta que no se revela es $\\frac23$\n",
    "\n"
   ]
  },
  {
   "cell_type": "markdown",
   "metadata": {},
   "source": [
    "#### 2. Demostración del Teorema de Bayes "
   ]
  },
  {
   "cell_type": "markdown",
   "metadata": {},
   "source": [
    "La probabilidad de que dos eventos $A$ y $B$ ocurran, $P\\left(A\\cap B\\right)$, es la probabilidad de $A$, $P\\left(A\\right)$, veces la probabilidad de $B$ dado que $A$ haya ocurrido, $P\\left(A\\left|B\\right.\\right)$. \n",
    "\n",
    "$P\\left(A\\cap B\\right)=P\\left(A\\right)P\\left(B\\left|A\\right.\\right)$ \n",
    "\n",
    "Por el otro lado, la probabilidad de $A$ unión $B$ también es la probabilidad de tener $A$ dado $B$ por la porbabilidad de $B$: \n",
    "\n",
    "$P\\left(A\\cap B\\right)=P\\left(B\\right)P\\left(A\\left|B\\right.\\right)$ \n",
    "\n",
    "Igualando ambas expresiones se llega a:\n",
    "\n",
    "$P\\left(B\\right)P\\left(A\\left|B\\right.\\right)=P\\left(A\\right)P\\left(B\\left|A\\right.\\right)$\n",
    "\n",
    "y por lo tanto:\n",
    "\n",
    "$P\\left(A\\left|B\\right.\\right)=\\frac{P\\left(B\\left|A\\right.\\right)}{P\\left(B\\right)}P\\left(A\\right)$\n",
    "\n",
    "Con lo cual se obtiene el Teorema de Bayes."
   ]
  }
 ],
 "metadata": {
  "kernelspec": {
   "display_name": "Python 3",
   "language": "python",
   "name": "python3"
  },
  "language_info": {
   "codemirror_mode": {
    "name": "ipython",
    "version": 3
   },
   "file_extension": ".py",
   "mimetype": "text/x-python",
   "name": "python",
   "nbconvert_exporter": "python",
   "pygments_lexer": "ipython3",
   "version": "3.8.5"
  }
 },
 "nbformat": 4,
 "nbformat_minor": 4
}
