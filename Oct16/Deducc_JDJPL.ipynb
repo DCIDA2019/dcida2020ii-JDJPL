{
 "cells": [
  {
   "cell_type": "markdown",
   "metadata": {},
   "source": [
    "## Deducir el método de mínimos cuadrados a partir de la minimización de la función ji-cuadrada."
   ]
  },
  {
   "cell_type": "markdown",
   "metadata": {},
   "source": [
    "Se la función definida como:\n",
    "\n",
    "$\\chi^2=\\sum_i\\frac{(y_i-f{(x_i,a_0,a_1))}^2}{\\sigma_i^2}$\n",
    "\n",
    "Considerando una aproximación lineal:\n",
    "\n",
    "$\\chi^2=\\sum_i\\frac{\\left(y_i-a_1x_i-a_0\\right)^2}{\\sigma_i^2}\\$\n",
    "\n",
    "Minimiazando con respecto a los parámetros $a_0$ y $a_1$:\n",
    "\n",
    "$\\frac{\\partial\\chi^2}{\\partial a_0}=\\sum_i\\frac{-2\\left(y_i-a_1x_i-a_0\\right)}{\\sigma_i^2}=0$\n",
    "  y\n",
    "$\\frac{\\partial\\chi^2}{\\partial a_1}=\\sum_i\\frac{-2x_i\\left(y_i-a_1x_i-a_0\\right)}{\\sigma_i^2}=0$ \n",
    "\n",
    "o bien el par de ecuaciones:\n",
    "\n",
    "$\\sum_i\\frac{a_1x_i}{\\sigma_i^2}+\\frac{a_0}{\\sigma_i^2}=\\sum_i\\frac{y_i}{\\sigma_i^2}\\;\\;\\;\\;\\;\\;\\;\\;\\underset i{\\sum x_i}\\left(\\frac{a_1x_i}{\\sigma_i^2}+\\frac{a_0}{\\sigma_i^2}\\right)=\\sum_i\\frac{x_iy_i}{\\sigma_i^2}$\n",
    "\n",
    "Definamos la siguiente representación:\n",
    "\n",
    "$U_{\\alpha\\beta}a_\\alpha=v_\\beta$\n",
    "\n",
    "donde:\n",
    "\n",
    "$U_{\\alpha\\beta}=\\sum_i\\frac{x_i^{\\alpha+\\beta}}{\\sigma_i^2}\\;\\;\\\\v_\\beta=\\sum_i\\frac{y_ix_i^\\alpha}{\\sigma_i^2}$\n",
    "\n",
    "$U$ es una matriz con coeficientes:\n",
    "\n",
    "$\\begin{pmatrix}1&x_i\\\\x_i&x_i^2\\end{pmatrix}$\n",
    "\n",
    "La solución a este sistema de ecuaciones viene dada por:\n",
    "\n",
    "$a_\\alpha={\\left(U^{-1}\\right)}_{\\alpha\\beta}v_\\beta$\n",
    "\n",
    "donde la inversa de $U$:\n",
    "\n",
    "$U^{-1}=\\frac1{U_{00}U_{11}-U_{{}_{01}}^2}\\begin{pmatrix}{U_{11}}&-U_{01}\\\\-U_{01}&U_{00}\\end{pmatrix}$\n",
    "\n",
    "finalmente ambos coeficientes:\n",
    "\n",
    "$a_0=\\frac{U_{11}v_0-U_{01}v_1}{U_{00}U_{11}-U_{{}_{01}}^2}\\;\\;\\;\\;\\;\\;\\;\\;\\;a_1=\\frac{-U_{01}v_0-U_{00}v_1}{U_{00}U_{11}-U_{{}_{01}}^2}$"
   ]
  },
  {
   "cell_type": "markdown",
   "metadata": {},
   "source": [
    "## Transformación de variable."
   ]
  },
  {
   "cell_type": "markdown",
   "metadata": {},
   "source": [
    "Sea:\n",
    "\n",
    "$y=\\phi(x)=exp(x)$\n",
    "\n",
    "y \n",
    "\n",
    "$p(x)=1\\;\\;para\\;\\;\\;0\\leq x\\leq1$\n",
    "\n",
    "Haciendo la transformación:\n",
    "\n",
    "$p(y)=(1)\\frac{d(\\ln y)}{dy}=\\frac1y$"
   ]
  },
  {
   "cell_type": "code",
   "execution_count": null,
   "metadata": {},
   "outputs": [],
   "source": []
  }
 ],
 "metadata": {
  "kernelspec": {
   "display_name": "Python 3",
   "language": "python",
   "name": "python3"
  },
  "language_info": {
   "codemirror_mode": {
    "name": "ipython",
    "version": 3
   },
   "file_extension": ".py",
   "mimetype": "text/x-python",
   "name": "python",
   "nbconvert_exporter": "python",
   "pygments_lexer": "ipython3",
   "version": "3.8.5"
  }
 },
 "nbformat": 4,
 "nbformat_minor": 4
}
